{
 "cells": [
  {
   "cell_type": "code",
   "execution_count": 1,
   "metadata": {},
   "outputs": [],
   "source": [
    "import sqlite3\n",
    "import pandas as pd\n",
    "import numpy as np\n",
    "import time\n",
    "from utils import *\n",
    "from ReactNode import ReactNode\n",
    "from ChemNode import ChemNode\n",
    "from MCTS import MCTS\n",
    "from tree_utils import *"
   ]
  },
  {
   "cell_type": "code",
   "execution_count": 2,
   "metadata": {},
   "outputs": [],
   "source": [
    "conn = sqlite3.connect('buyable.db')\n",
    "buyable = conn.cursor()\n",
    "retrobiocat = pd.read_pickle(\"data/final_test_retrobiocat.pkl\")\n",
    "analyzer = Retrosim()"
   ]
  },
  {
   "cell_type": "code",
   "execution_count": 3,
   "metadata": {},
   "outputs": [],
   "source": [
    "smile = \"C#C[C@]1([C@H](C[C@@H](O1)N2C=NC3=C(N=C(N=C32)F)N)O)CO\"\n",
    "root = ChemNode(smile, 0, None, buyable, retrobiocat, analyzer, None)"
   ]
  },
  {
   "cell_type": "code",
   "execution_count": 4,
   "metadata": {},
   "outputs": [],
   "source": [
    "mcts = MCTS(root)"
   ]
  },
  {
   "cell_type": "code",
   "execution_count": 5,
   "metadata": {},
   "outputs": [
    {
     "name": "stderr",
     "output_type": "stream",
     "text": [
      "100%|██████████| 1000/1000 [13:06<00:00,  1.27it/s]"
     ]
    },
    {
     "name": "stdout",
     "output_type": "stream",
     "text": [
      "Time taken (s):  786.2977592945099\n"
     ]
    },
    {
     "name": "stderr",
     "output_type": "stream",
     "text": [
      "\n"
     ]
    }
   ],
   "source": [
    "start = time.time()\n",
    "mcts.MCTS(1000)\n",
    "print(\"Time taken (s): \", time.time()-start)\n"
   ]
  },
  {
   "cell_type": "code",
   "execution_count": 6,
   "metadata": {},
   "outputs": [
    {
     "name": "stdout",
     "output_type": "stream",
     "text": [
      "Reaction name: Phosphate hydrolysis, Score: 1.1398120060417474\n",
      "Chem C#C[C@]1(COP(=O)(O)O)O[C@@H](n2cnc3c(N)nc(F)nc32)C[C@@H]1O, Score: 1.9, visits: 14, solution: False\n",
      " \n",
      "Reaction name: Ester hydrolysis (OH), Score: 1.1557994935507891\n",
      "Chem C#C[C@]1(COC(=O)CC)O[C@@H](n2cnc3c(N)nc(F)nc32)C[C@@H]1O, Score: 0.855, visits: 12, solution: False\n",
      " \n",
      "Reaction name: PNP, Score: 1.16684361707945\n",
      "Chem C#C[C@]1(CO)O[C@@H](OP(=O)([O-])O)C[C@@H]1O, Score: -0.171475, visits: 504, solution: False\n",
      "Chem Nc1nc(F)nc2[nH]cnc12, Score: 1.0, visits: 1, solution: True\n",
      " \n",
      "Reaction name: Phosphate hydrolysis, Score: 1.1398120060417474\n",
      "Chem C#C[C@]1(CO)O[C@@H](n2cnc3c(N)nc(F)nc32)C[C@@H]1OP(=O)(O)O, Score: 1.9, visits: 14, solution: False\n",
      " \n",
      "Reaction name: PNP (Incorporated from RDEnzyme), Score: 1.1667038674016121\n",
      "Chem C#C[C@]1(CO)O[C@H](OP(=O)([O-])[O-])C[C@@H]1O, Score: 5.051625, visits: 566, solution: True\n",
      "Chem Nc1nc(F)nc2[nH]cnc12, Score: 1.0, visits: 1, solution: True\n",
      " \n",
      "Reaction name: Ketone reduction, Score: 1.1637161602174557\n",
      "Chem C#C[C@]1(CO)O[C@@H](n2cnc3c(N)nc(F)nc32)CC1=O, Score: 0.95, visits: 12, solution: False\n",
      " \n",
      "Reaction name: Ester hydrolysis (OH), Score: 1.1330262917560332\n",
      "Chem C#C[C@]1(CO)O[C@@H](n2cnc3c(N)nc(F)nc32)C[C@@H]1OC(=O)CC, Score: 1.805, visits: 14, solution: False\n",
      " \n",
      "Reaction name: Aldehyde reduction, Score: 1.1637161602174557\n",
      "Chem C#C[C@]1(C=O)O[C@@H](n2cnc3c(N)nc(F)nc32)C[C@@H]1O, Score: 0.95, visits: 12, solution: False\n",
      " \n",
      "Reaction name: Ene hydrolysis, Score: 1.1364191488988902\n",
      "Chem C#C[C@@]1(CO)C=C[C@H](n2cnc3c(N)nc(F)nc32)O1, Score: 1.8525, visits: 14, solution: False\n",
      " \n"
     ]
    }
   ],
   "source": [
    "for react in root.reactions:\n",
    "    print(f'Reaction name: {react.reaction_name}, Score: {react.get_mcts_value()}')\n",
    "    for precursor in react.precursors:\n",
    "        print(f'Chem {precursor.smiles}, Score: {precursor.score}, visits: {precursor.visits}, solution: {precursor.solution}')\n",
    "    print(\" \")"
   ]
  },
  {
   "cell_type": "code",
   "execution_count": 7,
   "metadata": {},
   "outputs": [
    {
     "data": {
      "text/plain": [
       "True"
      ]
     },
     "execution_count": 7,
     "metadata": {},
     "output_type": "execute_result"
    }
   ],
   "source": [
    "root.solution"
   ]
  },
  {
   "cell_type": "code",
   "execution_count": 8,
   "metadata": {},
   "outputs": [
    {
     "name": "stdout",
     "output_type": "stream",
     "text": [
      "3\n"
     ]
    }
   ],
   "source": [
    "# Prune the tree starting from the root\n",
    "prune_tree(root)\n",
    "paths = generate_paths(root)\n",
    "print(len(paths))"
   ]
  },
  {
   "cell_type": "code",
   "execution_count": 12,
   "metadata": {},
   "outputs": [
    {
     "name": "stdout",
     "output_type": "stream",
     "text": [
      "BRANCH 0:\n",
      "-----------------\n",
      "Chem: C#C[C@]1(CO)O[C@@H](n2cnc3c(N)nc(F)nc32)C[C@@H]1O\n",
      "Reaction: PNP (Incorporated from RDEnzyme)\n",
      "SPLIT: Chem1: C#C[C@]1(CO)O[C@H](OP(=O)([O-])[O-])C[C@@H]1O, Chem2: Nc1nc(F)nc2[nH]cnc12\n",
      "\n",
      "Reaction: PPM (Incorporated from RDEnzyme)\n",
      "Chem: C#C[C@]1(COP(=O)([O-])[O-])OC(O)C[C@@H]1O\n",
      "Reaction: Hemiacetal closure (Incorporated from RDEnzyme)\n",
      "SPLIT: Chem1: C#C[C@](O)(C=O)COP(=O)([O-])[O-], Chem2: CC=O\n",
      "\n",
      "Reaction: Phosphorylation\n",
      "Chem: C#C[C@](O)(C=O)CO\n",
      "Reaction: Oxidoreductase (Incorporated from RDEnzyme)\n",
      "Chem: C#CC(O)(CO)CO\n",
      "BUYABLE\n",
      "\n",
      "BRANCH 1:\n",
      "-----------------\n",
      "Chem: CC=O\n",
      "BUYABLE\n",
      "\n",
      "BRANCH 2:\n",
      "-----------------\n",
      "Chem: Nc1nc(F)nc2[nH]cnc12\n",
      "BUYABLE\n",
      "\n"
     ]
    }
   ],
   "source": [
    "path_explorer(paths[1])"
   ]
  }
 ],
 "metadata": {
  "kernelspec": {
   "display_name": "Retro",
   "language": "python",
   "name": "python3"
  },
  "language_info": {
   "codemirror_mode": {
    "name": "ipython",
    "version": 3
   },
   "file_extension": ".py",
   "mimetype": "text/x-python",
   "name": "python",
   "nbconvert_exporter": "python",
   "pygments_lexer": "ipython3",
   "version": "3.13.0"
  }
 },
 "nbformat": 4,
 "nbformat_minor": 2
}
