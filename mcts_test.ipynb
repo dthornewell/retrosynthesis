{
 "cells": [
  {
   "cell_type": "code",
   "execution_count": 1,
   "metadata": {},
   "outputs": [],
   "source": [
    "import sqlite3\n",
    "import pandas as pd\n",
    "import numpy as np\n",
    "import time\n",
    "from utils import *\n",
    "from ReactNode import ReactNode\n",
    "from ChemNode import ChemNode\n",
    "from MCTS import MCTS\n",
    "from tree_utils import *"
   ]
  },
  {
   "cell_type": "code",
   "execution_count": 2,
   "metadata": {},
   "outputs": [],
   "source": [
    "conn = sqlite3.connect('buyable.db')\n",
    "buyable = conn.cursor()\n",
    "retrobiocat = pd.read_pickle(\"data/final_test_retrobiocat.pkl\")\n",
    "analyzer = Retrosim(reference_data_path='data/feasible_rdenzyme_templates.pkl')"
   ]
  },
  {
   "cell_type": "code",
   "execution_count": 3,
   "metadata": {},
   "outputs": [],
   "source": [
    "smile = \"C#C[C@]1([C@H](C[C@@H](O1)N2C=NC3=C(N=C(N=C32)F)N)O)CO\"\n",
    "root = ChemNode(smile, 0, None, buyable, retrobiocat, analyzer, None)"
   ]
  },
  {
   "cell_type": "code",
   "execution_count": 4,
   "metadata": {},
   "outputs": [],
   "source": [
    "mcts = MCTS(root)"
   ]
  },
  {
   "cell_type": "code",
   "execution_count": 8,
   "metadata": {},
   "outputs": [
    {
     "name": "stderr",
     "output_type": "stream",
     "text": [
      "100%|██████████| 1000/1000 [12:21<00:00,  1.35it/s]\n"
     ]
    }
   ],
   "source": [
    "mcts.MCTS(1000)"
   ]
  },
  {
   "cell_type": "code",
   "execution_count": 9,
   "metadata": {},
   "outputs": [
    {
     "name": "stdout",
     "output_type": "stream",
     "text": [
      "Reaction name: 21709, Score: 1.0527605583456805\n",
      "Chem C#C[C@]1(CSCC[C@H]([NH3+])C(=O)[O-])O[C@@H](n2cnc3c(N)nc(F)nc32)C[C@@H]1O, Score: 0.95, visits: 8, solution: False\n",
      "Chem O, Score: -0.7, visits: 7, solution: False\n",
      " \n",
      "Reaction name: PNP, Score: 1.0836921945061269\n",
      "Chem C#C[C@]1(CO)O[C@@H](OP(=O)([O-])O)C[C@@H]1O, Score: -34.596387499999956, visits: 1333, solution: False\n",
      "Chem Nc1nc(F)nc2[nH]cnc12, Score: 1.0, visits: 1, solution: True\n",
      " \n",
      "Reaction name: Ketone reduction, Score: 1.054910793068863\n",
      "Chem C#C[C@]1(CO)O[C@@H](n2cnc3c(N)nc(F)nc32)CC1=O, Score: 0.85975, visits: 16, solution: False\n",
      " \n",
      "Reaction name: Ester hydrolysis (OH), Score: 1.083048499194228\n",
      "Chem C#C[C@]1(COC(=O)CC)O[C@@H](n2cnc3c(N)nc(F)nc32)C[C@@H]1O, Score: 1.9, visits: 17, solution: False\n",
      " \n",
      "Reaction name: Aldehyde reduction, Score: 1.060551418068863\n",
      "Chem C#C[C@]1(C=O)O[C@@H](n2cnc3c(N)nc(F)nc32)C[C@@H]1O, Score: 0.95, visits: 16, solution: False\n",
      " \n",
      "Reaction name: Ene hydrolysis, Score: 1.0640484991942278\n",
      "Chem C#C[C@@]1(CO)C=C[C@H](n2cnc3c(N)nc(F)nc32)O1, Score: 1.5770000000000002, visits: 17, solution: False\n",
      " \n",
      "Reaction name: Phosphate hydrolysis, Score: 1.077739675664816\n",
      "Chem C#C[C@]1(CO)O[C@@H](n2cnc3c(N)nc(F)nc32)C[C@@H]1OP(=O)(O)O, Score: 1.80975, visits: 17, solution: False\n",
      " \n",
      "Reaction name: Phosphate hydrolysis, Score: 1.0724308521354045\n",
      "Chem C#C[C@]1(COP(=O)(O)O)O[C@@H](n2cnc3c(N)nc(F)nc32)C[C@@H]1O, Score: 1.7195, visits: 17, solution: False\n",
      " \n",
      "Reaction name: 27744, Score: 1.0835434589731243\n",
      "Chem C#C[C@]1(CO)O[C@H](OP(=O)([O-])[O-])C[C@@H]1O, Score: -27.201160000000034, visits: 1578, solution: True\n",
      "Chem Nc1nc(F)nc2[nH]cnc12, Score: 1.0, visits: 1, solution: True\n",
      " \n",
      "Reaction name: Ester hydrolysis (OH), Score: 1.083048499194228\n",
      "Chem C#C[C@]1(CO)O[C@@H](n2cnc3c(N)nc(F)nc32)C[C@@H]1OC(=O)CC, Score: 1.9, visits: 17, solution: False\n",
      " \n"
     ]
    }
   ],
   "source": [
    "for react in root.reactions:\n",
    "    print(f'Reaction name: {react.reaction_name}, Score: {react.get_mcts_value()}')\n",
    "    for precursor in react.precursors:\n",
    "        print(f'Chem {precursor.smiles}, Score: {precursor.score}, visits: {precursor.visits}, solution: {precursor.solution}')\n",
    "    print(\" \")"
   ]
  },
  {
   "cell_type": "code",
   "execution_count": 10,
   "metadata": {},
   "outputs": [
    {
     "data": {
      "text/plain": [
       "True"
      ]
     },
     "execution_count": 10,
     "metadata": {},
     "output_type": "execute_result"
    }
   ],
   "source": [
    "root.solution"
   ]
  },
  {
   "cell_type": "code",
   "execution_count": 11,
   "metadata": {},
   "outputs": [
    {
     "name": "stdout",
     "output_type": "stream",
     "text": [
      "3\n"
     ]
    }
   ],
   "source": [
    "# Prune the tree starting from the root\n",
    "prune_tree(root)\n",
    "paths = generate_paths(root)\n",
    "print(len(paths))"
   ]
  },
  {
   "cell_type": "code",
   "execution_count": null,
   "metadata": {},
   "outputs": [],
   "source": []
  },
  {
   "cell_type": "code",
   "execution_count": 15,
   "metadata": {},
   "outputs": [
    {
     "name": "stdout",
     "output_type": "stream",
     "text": [
      "BRANCH 0:\n",
      "-----------------\n",
      "Chem: C#C[C@]1([C@H](C[C@@H](O1)N2C=NC3=C(N=C(N=C32)F)N)O)CO\n",
      "Reaction: 27744\n",
      "SPLIT: Chem1: C#C[C@]1(CO)O[C@H](OP(=O)([O-])[O-])C[C@@H]1O, Chem2: Nc1nc(F)nc2[nH]cnc12\n",
      "\n",
      "Reaction: 27660\n",
      "Chem: C#C[C@]1(COP(=O)([O-])[O-])OC(O)C[C@@H]1O\n",
      "Reaction: 12823\n",
      "SPLIT: Chem1: C#C[C@](O)(C=O)COP(=O)([O-])[O-], Chem2: CC=O\n",
      "\n",
      "Reaction: Primary alcohol oxidation\n",
      "Chem: C#C[C@](O)(CO)COP(=O)([O-])[O-]\n",
      "Reaction: Phosphorylation\n",
      "Chem: C#CC(O)(CO)CO\n",
      "BUYABLE\n",
      "\n",
      "BRANCH 1:\n",
      "-----------------\n",
      "Chem: CC=O\n",
      "BUYABLE\n",
      "\n",
      "BRANCH 2:\n",
      "-----------------\n",
      "Chem: Nc1nc(F)nc2[nH]cnc12\n",
      "BUYABLE\n",
      "\n"
     ]
    }
   ],
   "source": [
    "path_explorer(paths[1])"
   ]
  },
  {
   "cell_type": "code",
   "execution_count": null,
   "metadata": {},
   "outputs": [],
   "source": [
    "conn2 = sqlite3.connect('databases/Available2.db')\n",
    "avail = conn2.cursor()\n",
    "\n",
    "def check_available(smiles, database):\n",
    "    database.execute('SELECT 1 FROM molecules WHERE SMILES = ?', (smiles,))\n",
    "    result = database.fetchone()\n",
    "    return bool(result)"
   ]
  },
  {
   "cell_type": "code",
   "execution_count": 31,
   "metadata": {},
   "outputs": [
    {
     "name": "stdout",
     "output_type": "stream",
     "text": [
      "(1,)\n"
     ]
    },
    {
     "data": {
      "text/plain": [
       "True"
      ]
     },
     "execution_count": 31,
     "metadata": {},
     "output_type": "execute_result"
    }
   ],
   "source": [
    "check_available(\"CC=O\", avail)"
   ]
  }
 ],
 "metadata": {
  "kernelspec": {
   "display_name": "Retro",
   "language": "python",
   "name": "python3"
  },
  "language_info": {
   "codemirror_mode": {
    "name": "ipython",
    "version": 3
   },
   "file_extension": ".py",
   "mimetype": "text/x-python",
   "name": "python",
   "nbconvert_exporter": "python",
   "pygments_lexer": "ipython3",
   "version": "3.13.0"
  }
 },
 "nbformat": 4,
 "nbformat_minor": 2
}
