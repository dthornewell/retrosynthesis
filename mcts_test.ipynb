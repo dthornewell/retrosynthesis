{
 "cells": [
  {
   "cell_type": "code",
   "execution_count": 1,
   "metadata": {},
   "outputs": [],
   "source": [
    "import sqlite3\n",
    "import pandas as pd\n",
    "import numpy as np\n",
    "import time\n",
    "from utils import *\n",
    "from ReactNode import ReactNode\n",
    "from ChemNode import ChemNode\n",
    "from MCTS import MCTS\n",
    "from tree_utils import *"
   ]
  },
  {
   "cell_type": "code",
   "execution_count": 2,
   "metadata": {},
   "outputs": [],
   "source": [
    "conn = sqlite3.connect('buyable.db')\n",
    "buyable = conn.cursor()\n",
    "retrobiocat = pd.read_pickle(\"data/retrobiocat_db_added_template.pkl\")\n",
    "analyzer = Retrosim()"
   ]
  },
  {
   "cell_type": "code",
   "execution_count": 3,
   "metadata": {},
   "outputs": [],
   "source": [
    "smile = \"C#C[C@]1([C@H](C[C@@H](O1)N2C=NC3=C(N=C(N=C32)F)N)O)CO\"\n",
    "root = ChemNode(smile, 0, None, True, buyable, retrobiocat, analyzer, None)"
   ]
  },
  {
   "cell_type": "code",
   "execution_count": 4,
   "metadata": {},
   "outputs": [],
   "source": [
    "mcts = MCTS(root, 3000)"
   ]
  },
  {
   "cell_type": "code",
   "execution_count": 5,
   "metadata": {},
   "outputs": [
    {
     "name": "stdout",
     "output_type": "stream",
     "text": [
      "Time taken (s):  1035.9324295520782\n"
     ]
    }
   ],
   "source": [
    "start = time.time()\n",
    "mcts.MCTS()\n",
    "print(\"Time taken (s): \", time.time()-start)\n"
   ]
  },
  {
   "cell_type": "code",
   "execution_count": 6,
   "metadata": {},
   "outputs": [
    {
     "name": "stdout",
     "output_type": "stream",
     "text": [
      "Reaction name: Phosphate hydrolysis, Score: 1.0616769890375268\n",
      "Chem C#C[C@]1(CO)O[C@@H](n2cnc3c(N)nc(F)nc32)C[C@@H]1OP(=O)(O)O, Score: 1.8525, visits: 17, solution: False\n",
      " \n",
      "Reaction name: Phosphate hydrolysis, Score: 1.0775667471062595\n",
      "Chem C#C[C@]1(COP(=O)(O)O)O[C@@H](n2cnc3c(N)nc(F)nc32)C[C@@H]1O, Score: 0.95, visits: 15, solution: False\n",
      " \n",
      "Reaction name: Ester hydrolysis (OH), Score: 1.0775667471062595\n",
      "Chem C#C[C@]1(COC(=O)CC)O[C@@H](n2cnc3c(N)nc(F)nc32)C[C@@H]1O, Score: 0.95, visits: 15, solution: False\n",
      " \n",
      "Reaction name: Ester hydrolysis (OH), Score: 1.0142334137729263\n",
      "Chem C#C[C@]1(CO)O[C@@H](n2cnc3c(N)nc(F)nc32)C[C@@H]1OC(=O)CC, Score: 0.0, visits: 15, solution: False\n",
      " \n",
      "Reaction name: Ketone reduction, Score: 1.0498313219683797\n",
      "Chem C#C[C@]1(CO)O[C@@H](n2cnc3c(N)nc(F)nc32)CC1=O, Score: 0.0, visits: 14, solution: False\n",
      " \n",
      "Reaction name: Ene hydrolysis, Score: 1.0498313219683797\n",
      "Chem C#C[C@@]1(CO)C=C[C@H](n2cnc3c(N)nc(F)nc32)O1, Score: 0.0, visits: 14, solution: False\n",
      " \n",
      "Reaction name: PNP, Score: 1.0824940677927157\n",
      "Chem C#C[C@]1(CO)O[C@@H](OP(=O)([O-])O)C[C@@H]1O, Score: -4.974918437499999, visits: 2144, solution: False\n",
      "Chem Nc1nc(F)nc2[nH]cnc12, Score: 1.0, visits: 1, solution: True\n",
      " \n",
      "Reaction name: Aldehyde reduction, Score: 1.0547807624573005\n",
      "Chem C#C[C@]1(C=O)O[C@@H](n2cnc3c(N)nc(F)nc32)C[C@@H]1O, Score: -0.95, visits: 12, solution: False\n",
      " \n"
     ]
    }
   ],
   "source": [
    "for react in root.reactions:\n",
    "    print(f'Reaction name: {react.reaction_name}, Score: {react.get_mcts_value()}')\n",
    "    for precursor in react.precursors:\n",
    "        print(f'Chem {precursor.smiles}, Score: {precursor.score}, visits: {precursor.visits}, solution: {precursor.solution}')\n",
    "    print(\" \")"
   ]
  },
  {
   "cell_type": "code",
   "execution_count": 7,
   "metadata": {},
   "outputs": [
    {
     "data": {
      "text/plain": [
       "False"
      ]
     },
     "execution_count": 7,
     "metadata": {},
     "output_type": "execute_result"
    }
   ],
   "source": [
    "root.solution"
   ]
  },
  {
   "cell_type": "code",
   "execution_count": 21,
   "metadata": {},
   "outputs": [],
   "source": [
    "# def prune_tree(node: ChemNode):\n",
    "#     \"\"\"\n",
    "#     Prune the tree by removing all non-solution pathways.\n",
    "\n",
    "#     :param node: The root ChemNode to prune.\n",
    "#     :return: None (modifies the tree in-place).\n",
    "#     \"\"\"\n",
    "#     # Iterate over a copy of the reactions to safely modify the original list\n",
    "#     for reaction in node.reactions[:]:\n",
    "#         # Check if all reagents in the reaction are solutions\n",
    "#         if all(reagent.solution for reagent in reaction.precursors):\n",
    "#             # Recursively prune each reagent\n",
    "#             for reagent in reaction.precursors:\n",
    "#                 prune_tree(reagent)\n",
    "#         else:\n",
    "#             # Remove non-solution reagents from the reaction\n",
    "#             for reagent in reaction.precursors[:]:\n",
    "#                 if not reagent.solution:\n",
    "#                     reaction.precursors.remove(reagent)\n",
    "            \n",
    "#             # If the reaction has no reagents left, remove the reaction\n",
    "#             if not reaction.precursors:\n",
    "#                 node.reactions.remove(reaction)\n",
    "\n",
    "#     # If the node itself is not a solution and has no reactions, prune it at the parent level\n",
    "#     if not node.solution and not node.reactions:\n",
    "#         return False\n",
    "\n",
    "# # Plan: Go down tree, copying along a given path to add to a single path list\n",
    "\n",
    "# def generate_subtrees(node: ChemNode):\n",
    "#     # Base case: if the node is a leaf\n",
    "#     if node.solution and not node.reactions: # Leaf node\n",
    "#         node.solution = False\n",
    "#         return node.copy()\n",
    "    \n",
    "#     copy = node.copy()\n",
    "#     # If the node is not a leaf, generate subtrees for all reactions\n",
    "       \n",
    "#     reaction = node.reactions[0]\n",
    "#     react = reaction.copy()\n",
    "#     for reagent in reaction.precursors:\n",
    "#         if reagent.solution:\n",
    "#             react.add_reagent(generate_subtrees(reagent))\n",
    "\n",
    "#     if all(not reagent.solution for reagent in node.reactions[0].precursors):\n",
    "#         node.reactions.pop(0)\n",
    "\n",
    "#     if not node.reactions:\n",
    "#         node.solution = False\n",
    "\n",
    "    \n",
    "\n",
    "#     copy.reactions.append(react)\n",
    "#     return copy\n",
    "\n",
    "# def generate_paths(root: ChemNode):\n",
    "#     paths = []\n",
    "#     while root.solution:\n",
    "#         paths.append(generate_subtrees(root))\n",
    "#     return paths\n",
    "\n",
    "# def path_explorer(root: ChemNode):\n",
    "#     \"\"\"\n",
    "#     Prints the path given a subtree\n",
    "#     \"\"\"\n",
    "\n",
    "#     stack = []\n",
    "#     stack.append(root)\n",
    "#     count = 0\n",
    "#     while stack:\n",
    "#         print(f\"BRANCH {count}:\\n-----------------\")\n",
    "#         count += 1\n",
    "#         root = stack.pop()\n",
    "#         print(f'Chem: {root.smiles}')\n",
    "#         while root.reactions:\n",
    "#             print(f'Reaction: {root.reactions[0].reaction_name}')\n",
    "#             if len(root.reactions[0].precursors) > 1:\n",
    "#                 print(f\"SPLIT: Chem1: {root.reactions[0].precursors[0].smiles}, Chem2: {root.reactions[0].precursors[1].smiles}\\n\")\n",
    "#                 stack.append(root.reactions[0].precursors[1])\n",
    "#             else:\n",
    "#                 print(f'Chem: {root.reactions[0].precursors[0].smiles}')\n",
    "#             root = root.reactions[0].precursors[0]\n",
    "#         print(\"BUYABLE\\n\")\n",
    "        "
   ]
  },
  {
   "cell_type": "code",
   "execution_count": 22,
   "metadata": {},
   "outputs": [
    {
     "name": "stdout",
     "output_type": "stream",
     "text": [
      "1\n"
     ]
    }
   ],
   "source": [
    "# Prune the tree starting from the root\n",
    "prune_tree(root)\n",
    "paths = generate_paths(root)\n",
    "print(len(paths))"
   ]
  },
  {
   "cell_type": "code",
   "execution_count": 23,
   "metadata": {},
   "outputs": [
    {
     "name": "stdout",
     "output_type": "stream",
     "text": [
      "BRANCH 0:\n",
      "-----------------\n",
      "Chem: C#C[C@]1([C@H](C[C@@H](O1)N2C=NC3=C(N=C(N=C32)F)N)O)CO\n",
      "Reaction: PNP\n",
      "SPLIT: Chem1: C#C[C@]1(CO)O[C@@H](OP(=O)([O-])O)C[C@@H]1O, Chem2: Nc1nc(F)nc2[nH]cnc12\n",
      "\n",
      "Reaction: Phosphate Transfer\n",
      "Chem: C#C[C@]1(COP(=O)([O-])O)O[C@@H](O)C[C@@H]1O\n",
      "Reaction: Hemiacetal closure\n",
      "Chem: C#C[C@@](O)(COP(=O)([O-])O)[C@@H](O)CC=O\n",
      "Reaction: Aldol reaction (DERA)\n",
      "SPLIT: Chem1: C#C[C@](O)(C=O)COP(=O)([O-])O, Chem2: CC=O\n",
      "\n",
      "BUYABLE\n",
      "\n",
      "BRANCH 1:\n",
      "-----------------\n",
      "Chem: CC=O\n",
      "BUYABLE\n",
      "\n",
      "BRANCH 2:\n",
      "-----------------\n",
      "Chem: Nc1nc(F)nc2[nH]cnc12\n",
      "BUYABLE\n",
      "\n"
     ]
    }
   ],
   "source": [
    "path_explorer(paths[0])"
   ]
  }
 ],
 "metadata": {
  "kernelspec": {
   "display_name": "Retro",
   "language": "python",
   "name": "python3"
  },
  "language_info": {
   "codemirror_mode": {
    "name": "ipython",
    "version": 3
   },
   "file_extension": ".py",
   "mimetype": "text/x-python",
   "name": "python",
   "nbconvert_exporter": "python",
   "pygments_lexer": "ipython3",
   "version": "3.13.0"
  }
 },
 "nbformat": 4,
 "nbformat_minor": 2
}
