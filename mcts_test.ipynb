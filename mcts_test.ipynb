{
 "cells": [
  {
   "cell_type": "code",
   "execution_count": 1,
   "metadata": {},
   "outputs": [],
   "source": [
    "import pandas as pd\n",
    "import numpy as np\n",
    "from utils import *\n",
    "from ReactNode import ReactNode\n",
    "from ChemNode import ChemNode\n",
    "from MCTS import MCTS\n",
    "from tree_utils import *"
   ]
  },
  {
   "cell_type": "code",
   "execution_count": 2,
   "metadata": {},
   "outputs": [],
   "source": [
    "conn = sqlite3.connect('data/split.db')\n",
    "buyable = conn.cursor()\n",
    "retrobiocat = pd.read_pickle(\"data/final_test_retrobiocat.pkl\")\n",
    "analyzer = Retrosim('data/RHEA_atom_mapped_timepoint_7_success.pkl', 'data/retrobiocat_database.pkl')"
   ]
  },
  {
   "cell_type": "code",
   "execution_count": 3,
   "metadata": {},
   "outputs": [],
   "source": [
    "smile = \"C#C[C@]1(CO)O[C@@H](n2cnc3c(N)nc(F)nc32)C[C@@H]1O\"\n",
    "root = ChemNode(smile, 0, None, buyable, retrobiocat, analyzer, None)"
   ]
  },
  {
   "cell_type": "code",
   "execution_count": 4,
   "metadata": {},
   "outputs": [],
   "source": [
    "mcts = MCTS(root)"
   ]
  },
  {
   "cell_type": "code",
   "execution_count": 5,
   "metadata": {},
   "outputs": [
    {
     "name": "stderr",
     "output_type": "stream",
     "text": [
      "100%|██████████| 5000/5000 [24:01<00:00,  3.47it/s] \n"
     ]
    }
   ],
   "source": [
    "mcts.MCTS(5000)"
   ]
  },
  {
   "cell_type": "code",
   "execution_count": 6,
   "metadata": {},
   "outputs": [
    {
     "name": "stdout",
     "output_type": "stream",
     "text": [
      "Reaction name: Ene hydrolysis, Score: 1.0135294970453652\n",
      "Chem C#C[C@@]1(CO)C=C[C@H](n2cnc3c(N)nc(F)nc32)O1, Score: 105.57115500000033, visits: 156, solution: True\n",
      " \n",
      "Reaction name: PNP, Score: 1.8209077138742555\n",
      "Chem C#C[C@]1(CO)O[C@@H](OP(=O)([O-])O)C[C@@H]1O, Score: 538.5685686874979, visits: 801, solution: False\n",
      "Chem Nc1nc(F)nc2[nH]cnc12, Score: 1.0, visits: 1, solution: True\n",
      " \n",
      "Reaction name: 23454, Score: 0.8701232455435273\n",
      "Chem C#C[C@]1(COP(=O)([O-])[O-])O[C@@H](n2cnc3c(N)nc(F)nc32)C[C@@H]1O, Score: 346.4356512499984, visits: 507, solution: False\n",
      " \n",
      "Reaction name: 28192, Score: 1.8038645220534344\n",
      "Chem C#C[C@]1(CO)O[C@@H](n2cnc3c(=O)[nH]c(F)nc32)C[C@@H]1O, Score: 650.2773396875032, visits: 972, solution: True\n",
      "Chem [NH4+], Score: 1.0, visits: 1, solution: True\n",
      " \n",
      "Reaction name: 29372, Score: 1.824583690220249\n",
      "Chem C#C[C@]1(COP(=O)([O-])[O-])O[C@@H](n2cnc3c(N)nc(F)nc32)C[C@@H]1O, Score: 529.5154771874992, visits: 785, solution: False\n",
      "Chem O, Score: 1.0, visits: 1, solution: True\n",
      " \n",
      "Reaction name: 23454, Score: 0.8696000503707131\n",
      "Chem C#C[C@]1(CO)O[C@@H](n2cnc3c(N)nc(F)nc32)C[C@@H]1OP(=O)([O-])[O-], Score: 359.37872999999803, visits: 524, solution: False\n",
      " \n",
      "Reaction name: Ketone reduction, Score: 0.8371840610055372\n",
      "Chem C#C[C@]1(CO)O[C@@H](n2cnc3c(N)nc(F)nc32)CC1=O, Score: 288.9753049999989, visits: 452, solution: False\n",
      " \n",
      "Reaction name: 27744, Score: 1.9671970161031134\n",
      "Chem C#C[C@]1(CO)O[C@H](OP(=O)([O-])[O-])C[C@@H]1O, Score: 223.3450062499997, visits: 307, solution: True\n",
      "Chem Nc1nc(F)nc2[nH]cnc12, Score: 1.0, visits: 1, solution: True\n",
      " \n",
      "Reaction name: Aldehyde reduction, Score: 0.8486247804863759\n",
      "Chem C#C[C@]1(C=O)O[C@@H](n2cnc3c(N)nc(F)nc32)C[C@@H]1O, Score: 303.1506349999987, visits: 464, solution: False\n",
      " \n",
      "Reaction name: Ester hydrolysis (OH), Score: 0.8383382567404614\n",
      "Chem C#C[C@]1(COC(=O)CC)O[C@@H](n2cnc3c(N)nc(F)nc32)C[C@@H]1O, Score: 308.01551493749884, visits: 477, solution: False\n",
      " \n",
      "Reaction name: Ester hydrolysis (OH), Score: 0.861625485165017\n",
      "Chem C#C[C@]1(CO)O[C@@H](n2cnc3c(N)nc(F)nc32)C[C@@H]1OC(=O)CC, Score: 312.23973624999843, visits: 468, solution: False\n",
      " \n",
      "Reaction name: Phosphate hydrolysis, Score: 0.8102385379744855\n",
      "Chem C#C[C@]1(CO)O[C@@H](n2cnc3c(N)nc(F)nc32)C[C@@H]1OP(=O)(O)O, Score: 312.49111456249955, visits: 502, solution: False\n",
      " \n",
      "Reaction name: Phosphate hydrolysis, Score: 0.7195794782478608\n",
      "Chem C#C[C@]1(COP(=O)(O)O)O[C@@H](n2cnc3c(N)nc(F)nc32)C[C@@H]1O, Score: 300.897857190625, visits: 556, solution: True\n",
      " \n"
     ]
    }
   ],
   "source": [
    "for react in root.reactions:\n",
    "    print(f'Reaction name: {react.reaction_name}, Score: {react.get_mcts_value()}')\n",
    "    for precursor in react.precursors:\n",
    "        print(f'Chem {precursor.smiles}, Score: {precursor.score}, visits: {precursor.visits}, solution: {precursor.solution}')\n",
    "    print(\" \")"
   ]
  },
  {
   "cell_type": "code",
   "execution_count": 24,
   "metadata": {},
   "outputs": [
    {
     "data": {
      "text/plain": [
       "True"
      ]
     },
     "execution_count": 24,
     "metadata": {},
     "output_type": "execute_result"
    }
   ],
   "source": [
    "root.solution"
   ]
  },
  {
   "cell_type": "code",
   "execution_count": 30,
   "metadata": {},
   "outputs": [
    {
     "name": "stdout",
     "output_type": "stream",
     "text": [
      "5\n"
     ]
    }
   ],
   "source": [
    "# Prune the tree starting from the root\n",
    "# prune_tree(root)\n",
    "paths = generate_paths(root)\n",
    "print(len(paths))"
   ]
  },
  {
   "cell_type": "code",
   "execution_count": 26,
   "metadata": {},
   "outputs": [
    {
     "name": "stdout",
     "output_type": "stream",
     "text": [
      "BRANCH 0:\n",
      "-----------------\n",
      "Chem: C#C[C@]1(CO)O[C@@H](n2cnc3c(N)nc(F)nc32)C[C@@H]1O\n",
      "Reaction: Ene hydrolysis\n",
      "Chem: C#C[C@@]1(CO)C=C[C@H](n2cnc3c(N)nc(F)nc32)O1\n",
      "Reaction: 27744\n",
      "SPLIT: Chem1: C#C[C@@]1(CO)C=C[C@@H](OP(=O)([O-])[O-])O1, Chem2: Nc1nc(F)nc2[nH]cnc12\n",
      "\n",
      "Reaction: 16038\n",
      "SPLIT: Chem1: C#C[C@@]1(CO)C=C[C@H](n2cc(C)c(=O)[nH]c2=O)O1, Chem2: O=P([O-])([O-])O\n",
      "\n",
      "BUYABLE\n",
      "\n",
      "BRANCH 1:\n",
      "-----------------\n",
      "Chem: O=P([O-])([O-])O\n",
      "BUYABLE\n",
      "\n",
      "BRANCH 2:\n",
      "-----------------\n",
      "Chem: Nc1nc(F)nc2[nH]cnc12\n",
      "BUYABLE\n",
      "\n"
     ]
    }
   ],
   "source": [
    "path_explorer(paths[0])"
   ]
  },
  {
   "cell_type": "code",
   "execution_count": 31,
   "metadata": {},
   "outputs": [
    {
     "name": "stdout",
     "output_type": "stream",
     "text": [
      "Path 0\n",
      "BRANCH 0:\n",
      "-----------------\n",
      "Chem: C#C[C@]1(CO)O[C@@H](n2cnc3c(N)nc(F)nc32)C[C@@H]1O\n",
      "Reaction: Ene hydrolysis\n",
      "Chem: C#C[C@@]1(CO)C=C[C@H](n2cnc3c(N)nc(F)nc32)O1\n",
      "Reaction: 27744\n",
      "SPLIT: Chem1: C#C[C@@]1(CO)C=C[C@@H](OP(=O)([O-])[O-])O1, Chem2: Nc1nc(F)nc2[nH]cnc12\n",
      "\n",
      "Reaction: 16038\n",
      "SPLIT: Chem1: C#C[C@@]1(CO)C=C[C@H](n2cc(C)c(=O)[nH]c2=O)O1, Chem2: O=P([O-])([O-])O\n",
      "\n",
      "BUYABLE\n",
      "\n",
      "BRANCH 1:\n",
      "-----------------\n",
      "Chem: O=P([O-])([O-])O\n",
      "BUYABLE\n",
      "\n",
      "BRANCH 2:\n",
      "-----------------\n",
      "Chem: Nc1nc(F)nc2[nH]cnc12\n",
      "BUYABLE\n",
      "\n",
      " \n",
      "Path 1\n",
      "BRANCH 0:\n",
      "-----------------\n",
      "Chem: C#C[C@]1(CO)O[C@@H](n2cnc3c(N)nc(F)nc32)C[C@@H]1O\n",
      "Reaction: 28192\n",
      "SPLIT: Chem1: C#C[C@]1(CO)O[C@@H](n2cnc3c(=O)[nH]c(F)nc32)C[C@@H]1O, Chem2: [NH4+]\n",
      "\n",
      "Reaction: 27752\n",
      "SPLIT: Chem1: C#C[C@]1(CO)O[C@H](OP(=O)([O-])[O-])C[C@@H]1O, Chem2: O=c1[nH]c(F)nc2nc[nH]c12\n",
      "\n",
      "Reaction: 16038\n",
      "SPLIT: Chem1: C#C[C@]1(CO)O[C@@H](n2cc(C)c(=O)[nH]c2=O)C[C@@H]1O, Chem2: O=P([O-])([O-])O\n",
      "\n",
      "Reaction: Ene hydrolysis\n",
      "Chem: C#C[C@@]1(CO)C=C[C@H](n2cc(C)c(=O)[nH]c2=O)O1\n",
      "BUYABLE\n",
      "\n",
      "BRANCH 1:\n",
      "-----------------\n",
      "Chem: O=P([O-])([O-])O\n",
      "BUYABLE\n",
      "\n",
      "BRANCH 2:\n",
      "-----------------\n",
      "Chem: O=c1[nH]c(F)nc2nc[nH]c12\n",
      "BUYABLE\n",
      "\n",
      "BRANCH 3:\n",
      "-----------------\n",
      "Chem: [NH4+]\n",
      "BUYABLE\n",
      "\n",
      " \n",
      "Path 2\n",
      "BRANCH 0:\n",
      "-----------------\n",
      "Chem: C#C[C@]1(CO)O[C@@H](n2cnc3c(N)nc(F)nc32)C[C@@H]1O\n",
      "Reaction: 27744\n",
      "SPLIT: Chem1: C#C[C@]1(CO)O[C@H](OP(=O)([O-])[O-])C[C@@H]1O, Chem2: Nc1nc(F)nc2[nH]cnc12\n",
      "\n",
      "Reaction: 27660\n",
      "Chem: C#C[C@]1(COP(=O)([O-])[O-])OC(O)C[C@@H]1O\n",
      "Reaction: 12823\n",
      "SPLIT: Chem1: C#C[C@](O)(C=O)COP(=O)([O-])[O-], Chem2: CC=O\n",
      "\n",
      "Reaction: Phosphorylation\n",
      "Chem: C#C[C@](O)(C=O)CO\n",
      "Reaction: Primary alcohol oxidation\n",
      "Chem: C#CC(O)(CO)CO\n",
      "BUYABLE\n",
      "\n",
      "BRANCH 1:\n",
      "-----------------\n",
      "Chem: CC=O\n",
      "BUYABLE\n",
      "\n",
      "BRANCH 2:\n",
      "-----------------\n",
      "Chem: Nc1nc(F)nc2[nH]cnc12\n",
      "BUYABLE\n",
      "\n",
      " \n",
      "Path 3\n",
      "BRANCH 0:\n",
      "-----------------\n",
      "Chem: C#C[C@]1(CO)O[C@@H](n2cnc3c(N)nc(F)nc32)C[C@@H]1O\n",
      "Reaction: 27744\n",
      "SPLIT: Chem1: C#C[C@]1(CO)O[C@H](OP(=O)([O-])[O-])C[C@@H]1O, Chem2: Nc1nc(F)nc2[nH]cnc12\n",
      "\n",
      "Reaction: 16038\n",
      "SPLIT: Chem1: C#C[C@]1(CO)O[C@@H](n2cc(C)c(=O)[nH]c2=O)C[C@@H]1O, Chem2: O=P([O-])([O-])O\n",
      "\n",
      "Reaction: Ene hydrolysis\n",
      "Chem: C#C[C@@]1(CO)C=C[C@H](n2cc(C)c(=O)[nH]c2=O)O1\n",
      "BUYABLE\n",
      "\n",
      "BRANCH 1:\n",
      "-----------------\n",
      "Chem: O=P([O-])([O-])O\n",
      "BUYABLE\n",
      "\n",
      "BRANCH 2:\n",
      "-----------------\n",
      "Chem: Nc1nc(F)nc2[nH]cnc12\n",
      "BUYABLE\n",
      "\n",
      " \n",
      "Path 4\n",
      "BRANCH 0:\n",
      "-----------------\n",
      "Chem: C#C[C@]1(CO)O[C@@H](n2cnc3c(N)nc(F)nc32)C[C@@H]1O\n",
      "Reaction: Phosphate hydrolysis\n",
      "Chem: C#C[C@]1(COP(=O)(O)O)O[C@@H](n2cnc3c(N)nc(F)nc32)C[C@@H]1O\n",
      "Reaction: PNP\n",
      "SPLIT: Chem1: C#C[C@]1(COP(=O)(O)O)O[C@@H](OP(=O)([O-])O)C[C@@H]1O, Chem2: Nc1nc(F)nc2[nH]cnc12\n",
      "\n",
      "Reaction: 41401\n",
      "Chem: C#C[C@]1(COP(=O)(O)O)O[C@@H](OP(=O)(O)OCC[N+](C)(C)C)C[C@@H]1O\n",
      "Reaction: Phosphorylation\n",
      "Chem: C[N+](C)(C)CCO\n",
      "BUYABLE\n",
      "\n",
      "BRANCH 1:\n",
      "-----------------\n",
      "Chem: Nc1nc(F)nc2[nH]cnc12\n",
      "BUYABLE\n",
      "\n",
      " \n"
     ]
    }
   ],
   "source": [
    "for i in range(0, len(paths)):\n",
    "    print(f'Path {i}')\n",
    "    path_explorer(paths[i])\n",
    "    print(\" \")"
   ]
  },
  {
   "cell_type": "code",
   "execution_count": 17,
   "metadata": {},
   "outputs": [
    {
     "data": {
      "text/plain": [
       "'C#C[C@@]1(CO)C=C[C@@H](OP(=O)([O-])[O-])O1'"
      ]
     },
     "execution_count": 17,
     "metadata": {},
     "output_type": "execute_result"
    }
   ],
   "source": [
    "canonicalize_smiles(\"C#C[C@@]1(CO)C=C[C@@H](OP(=O)([O-])[O-])O1\")"
   ]
  },
  {
   "cell_type": "code",
   "execution_count": null,
   "metadata": {},
   "outputs": [
    {
     "data": {
      "text/plain": [
       "False"
      ]
     },
     "execution_count": 3,
     "metadata": {},
     "output_type": "execute_result"
    }
   ],
   "source": [
    "check_in(\"C#C[C@]1(CO)O[C@H](OP(=O)([O-])[O-])C[C@@H]1O\", buyable, 'buyable')"
   ]
  },
  {
   "cell_type": "code",
   "execution_count": 4,
   "metadata": {},
   "outputs": [
    {
     "data": {
      "text/plain": [
       "([('RHEA',\n",
       "   41321,\n",
       "   'C#C[C@]1(COP(=O)(O)O)O[C@@H](OP(=O)(O)OCC[N+](C)(C)C)C[C@@H]1OC(=O)CCCCCCC/C=C\\\\CCCCCCCC',\n",
       "   0.4999223723024376),\n",
       "  ('RHEA',\n",
       "   62485,\n",
       "   'C#C[C@]1(COP(=O)(O)O)O[C@@H](OP(=O)(O)OCC[N+](C)(C)C)C[C@@H]1OC(=O)CCCCCCCCCCCCCCC',\n",
       "   0.49304677623261695),\n",
       "  ('RHEA',\n",
       "   40828,\n",
       "   'C#C[C@]1(COP(=O)(O)O)O[C@@H](OP(=O)(O)OCC[N+](C)(C)C)C[C@@H]1OC(=O)CCC/C=C\\\\C/C=C\\\\C/C=C\\\\C/C=C\\\\CCCCC',\n",
       "   0.4528301886792453),\n",
       "  ('RetroBioCat',\n",
       "   'Ene hydrolysis',\n",
       "   'C#C[C@@]1(COP(=O)(O)O)C=C[C@H](OP(=O)(O)OCC[N+](C)(C)C)O1',\n",
       "   0),\n",
       "  ('RetroBioCat',\n",
       "   'Ester hydrolysis (OH)',\n",
       "   'C#C[C@]1(COP(=O)(O)O)O[C@@H](OP(=O)(O)OCC[N+](C)(C)C)C[C@@H]1OC(=O)CC',\n",
       "   0),\n",
       "  ('RetroBioCat',\n",
       "   'Ketone reduction',\n",
       "   'C#C[C@]1(COP(=O)(O)O)O[C@@H](OP(=O)(O)OCC[N+](C)(C)C)CC1=O',\n",
       "   0),\n",
       "  ('RetroBioCat',\n",
       "   'N-methylation',\n",
       "   'C#C[C@]1(COP(=O)(O)O)O[C@@H](OP(=O)(O)OCC[NH+](C)C)C[C@@H]1O',\n",
       "   0),\n",
       "  ('RetroBioCat',\n",
       "   'Phosphate hydrolysis',\n",
       "   'C#C[C@]1(COP(=O)(O)O)O[C@@H](OP(=O)(O)OCC[N+](C)(C)C)C[C@@H]1OP(=O)(O)O',\n",
       "   0),\n",
       "  ('RetroBioCat', 'Phosphorylation', 'C[N+](C)(C)CCO', 0),\n",
       "  ('RetroBioCat',\n",
       "   'Phosphorylation',\n",
       "   'C#C[C@]1(CO)O[C@@H](OP(=O)(O)OCC[N+](C)(C)C)C[C@@H]1O',\n",
       "   0),\n",
       "  ('RetroBioCat',\n",
       "   'Phosphorylation',\n",
       "   'C#C[C@]1(COP(=O)(O)O)O[C@@H](O)C[C@@H]1O',\n",
       "   0)],\n",
       " [-1.0029953268326275,\n",
       "  -0.8491019838874263,\n",
       "  -1.1635849726449838,\n",
       "  0.42012745572745525,\n",
       "  0.013127410904139047,\n",
       "  -0.1933620707062973,\n",
       "  -0.5403680701021405,\n",
       "  0.2361278686440622,\n",
       "  2.397529689749846,\n",
       "  0.08528593348985014,\n",
       "  -0.01235485423125482])"
      ]
     },
     "execution_count": 4,
     "metadata": {},
     "output_type": "execute_result"
    }
   ],
   "source": [
    "analyzer.single_step_retro(\" C#C[C@]1(COP(=O)(O)O)O[C@@H](OP(=O)(O)OCC[N+](C)(C)C)C[C@@H]1O\", 10, False, True)"
   ]
  },
  {
   "cell_type": "code",
   "execution_count": 7,
   "metadata": {},
   "outputs": [
    {
     "name": "stdout",
     "output_type": "stream",
     "text": [
      "Reaction name: Ene hydrolysis\n",
      "Chem C#C[C@@]1(COP(=O)(O)O)C=C[C@H](OP(=O)(O)OCC[N+](C)(C)C)O1\n",
      " \n",
      "Reaction name: Ester hydrolysis (OH)\n",
      "Chem C#C[C@]1(COP(=O)(O)O)O[C@@H](OP(=O)(O)OCC[N+](C)(C)C)C[C@@H]1OC(=O)CC\n",
      " \n",
      "Reaction name: Ketone reduction\n",
      "Chem C#C[C@]1(COP(=O)(O)O)O[C@@H](OP(=O)(O)OCC[N+](C)(C)C)CC1=O\n",
      " \n",
      "Reaction name: N-methylation\n",
      "Chem C#C[C@]1(COP(=O)(O)O)O[C@@H](OP(=O)(O)OCC[NH+](C)C)C[C@@H]1O\n",
      " \n",
      "Reaction name: Phosphate hydrolysis\n",
      "Chem C#C[C@]1(COP(=O)(O)O)O[C@@H](OP(=O)(O)OCC[N+](C)(C)C)C[C@@H]1OP(=O)(O)O\n",
      " \n",
      "Reaction name: Phosphorylation\n",
      "Chem C[N+](C)(C)CCO\n",
      " \n",
      "Reaction name: Phosphorylation\n",
      "Chem C#C[C@]1(CO)O[C@@H](OP(=O)(O)OCC[N+](C)(C)C)C[C@@H]1O\n",
      " \n",
      "Reaction name: Phosphorylation\n",
      "Chem C#C[C@]1(COP(=O)(O)O)O[C@@H](O)C[C@@H]1O\n",
      " \n"
     ]
    }
   ],
   "source": [
    "test = ChemNode(\"C#C[C@]1(COP(=O)(O)O)O[C@@H](OP(=O)(O)OCC[N+](C)(C)C)C[C@@H]1O\", 0, None, buyable, retrobiocat, analyzer, None)\n",
    "test.possible_reactions = []\n",
    "test.generate_reactions_retrobiocat()\n",
    "\n",
    "for react in test.possible_reactions:\n",
    "    print(f'Reaction name: {react.name}')\n",
    "    for precursor in react.precursors:\n",
    "        print(f'Chem {precursor}')\n",
    "    print(\" \")"
   ]
  }
 ],
 "metadata": {
  "kernelspec": {
   "display_name": "Retro",
   "language": "python",
   "name": "python3"
  },
  "language_info": {
   "codemirror_mode": {
    "name": "ipython",
    "version": 3
   },
   "file_extension": ".py",
   "mimetype": "text/x-python",
   "name": "python",
   "nbconvert_exporter": "python",
   "pygments_lexer": "ipython3",
   "version": "3.13.0"
  }
 },
 "nbformat": 4,
 "nbformat_minor": 2
}
