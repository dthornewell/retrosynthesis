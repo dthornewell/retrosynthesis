{
 "cells": [
  {
   "cell_type": "code",
   "execution_count": 1,
   "metadata": {},
   "outputs": [],
   "source": [
    "import sqlite3\n",
    "import pandas as pd\n",
    "import numpy as np\n",
    "import time\n",
    "from utils import *\n",
    "from ReactNode import ReactNode\n",
    "from ChemNode import ChemNode\n",
    "from MCTS import MCTS\n",
    "from PNS import PNS\n",
    "import matplotlib.pyplot as plt"
   ]
  },
  {
   "cell_type": "code",
   "execution_count": 2,
   "metadata": {},
   "outputs": [],
   "source": [
    "conn = sqlite3.connect('buyable.db')\n",
    "buyable = conn.cursor()\n",
    "analyzer = Retrosim()\n",
    "retrobiocat = pd.read_pickle(\"data/retrobiocat_database.pkl\")"
   ]
  },
  {
   "cell_type": "code",
   "execution_count": 14,
   "metadata": {},
   "outputs": [],
   "source": [
    "smile = \"c1ccc(C2CCCCN2)cc1\"\n",
    "root = ChemNode(smile, 0, None, True, buyable, retrobiocat, analyzer, None)"
   ]
  },
  {
   "cell_type": "code",
   "execution_count": 15,
   "metadata": {},
   "outputs": [
    {
     "name": "stdout",
     "output_type": "stream",
     "text": [
      "313\n",
      "Root score: True\n",
      "Time taken: 35.688640117645264\n"
     ]
    }
   ],
   "source": [
    "pns = PNS(root, 4)\n",
    "start = time.time()\n",
    "pns.proof_number_search(root)\n",
    "end = time.time()\n",
    "print(pns.count)\n",
    "print(f'Root score: {root.solution}')\n",
    "print(f'Time taken: {end-start}')"
   ]
  },
  {
   "cell_type": "code",
   "execution_count": 16,
   "metadata": {},
   "outputs": [],
   "source": [
    "def prune_tree(node: ChemNode):\n",
    "    \"\"\"\n",
    "    Prune the tree by removing all non-solution pathways.\n",
    "\n",
    "    :param node: The root ChemNode to prune.\n",
    "    :return: None (modifies the tree in-place).\n",
    "    \"\"\"\n",
    "    # Iterate over a copy of the reactions to safely modify the original list\n",
    "    for reaction in node.reactions[:]:\n",
    "        # Check if all reagents in the reaction are solutions\n",
    "        if all(reagent.solution for reagent in reaction.reagents):\n",
    "            # Recursively prune each reagent\n",
    "            for reagent in reaction.reagents:\n",
    "                prune_tree(reagent)\n",
    "        else:\n",
    "            # Remove non-solution reagents from the reaction\n",
    "            for reagent in reaction.reagents[:]:\n",
    "                if not reagent.solution:\n",
    "                    reaction.reagents.remove(reagent)\n",
    "            \n",
    "            # If the reaction has no reagents left, remove the reaction\n",
    "            if not reaction.reagents:\n",
    "                node.reactions.remove(reaction)\n",
    "\n",
    "    # If the node itself is not a solution and has no reactions, prune it at the parent level\n",
    "    if not node.solution and not node.reactions:\n",
    "        return False\n"
   ]
  },
  {
   "cell_type": "code",
   "execution_count": 43,
   "metadata": {},
   "outputs": [],
   "source": [
    "def prune_tree(node: ChemNode) -> bool:\n",
    "    \"\"\"\n",
    "    Prune the tree by removing all non-solution pathways.\n",
    "\n",
    "    :param node: The root ChemNode to prune.\n",
    "    :return: A boolean indicating whether the node (and its subtree) is part of a valid solution path.\n",
    "    \"\"\"\n",
    "    # If the node is a solution, keep it\n",
    "    if node.solution:\n",
    "        return True\n",
    "\n",
    "    # Prune reactions in-place\n",
    "    i = 0\n",
    "    while i < len(node.reactions):\n",
    "        reaction = node.reactions[i]\n",
    "        \n",
    "        # Prune the reagents of this reaction\n",
    "        reaction.reagents = [reagent for reagent in reaction.reagents if reagent.solution]\n",
    "        \n",
    "        # If the reaction has no valid reagents, remove it\n",
    "        if not reaction.reagents:\n",
    "            node.reactions.pop(i)\n",
    "        else:\n",
    "            i += 1\n",
    "\n",
    "        for reagent in reaction.reagents:\n",
    "            prune_tree(reagent)\n",
    "\n",
    "    # If the node has no valid reactions and is not a solution, it is removed\n",
    "    return bool(node.reactions)"
   ]
  },
  {
   "cell_type": "code",
   "execution_count": 20,
   "metadata": {},
   "outputs": [],
   "source": [
    "def prune_tree(node:ChemNode):\n",
    "    # Base case: if the node is a leaf\n",
    "    if not node.solution:\n",
    "        node.parent_reaction.reagents.remove(node)\n",
    "        # also remove reaction as one invalid reagent will make the reaction invalid\n",
    "        if node.parent_reaction.parent_chemical is not None:\n",
    "            node.parent_reaction.parent_chemical.reactions.remove(node.parent_reaction)\n",
    "\n",
    "    for reaction in node.reactions:\n",
    "        for reagent in reaction.reagents:\n",
    "            prune_tree(reagent)\n",
    "\n",
    "# Prune the tree starting from the root\n",
    "prune_tree(root)"
   ]
  },
  {
   "cell_type": "code",
   "execution_count": 17,
   "metadata": {},
   "outputs": [],
   "source": [
    "# Prune the tree starting from the root\n",
    "prune_tree(root)"
   ]
  },
  {
   "cell_type": "code",
   "execution_count": 18,
   "metadata": {},
   "outputs": [
    {
     "name": "stdout",
     "output_type": "stream",
     "text": [
      "Imine reduction: ['c1ccc(C2=NCCCC2)cc1: True']\n",
      "Imine reduction: ['C1=NC(c2ccccc2)CCC1: True']\n"
     ]
    }
   ],
   "source": [
    "for react in root.reactions:\n",
    "    #if all(reagent.solution for reagent in react.reagents):\n",
    "    reagent_smiles = [f'{reagent.smile}: {reagent.solution}' for reagent in react.reagents]\n",
    "    print(f'{react.reaction_name}: {reagent_smiles}')"
   ]
  },
  {
   "cell_type": "code",
   "execution_count": 8,
   "metadata": {},
   "outputs": [],
   "source": [
    "# Plan: Go down tree, copying along a given path to add to a single path list\n",
    "\n",
    "def generate_subtrees(node: ChemNode):\n",
    "    # Base case: if the node is a leaf\n",
    "    if node.solution and not node.reactions: # Leaf node\n",
    "        node.solution = False\n",
    "        return node.copy()\n",
    "    \n",
    "    copy = node.copy()\n",
    "    # If the node is not a leaf, generate subtrees for all reactions\n",
    "       \n",
    "    reaction = node.reactions[0]\n",
    "    react = reaction.copy()\n",
    "    for reagent in reaction.reagents:\n",
    "        if reagent.solution:\n",
    "            react.add_reagent(generate_subtrees(reagent))\n",
    "\n",
    "    if all(not reagent.solution for reagent in node.reactions[0].reagents):\n",
    "        node.reactions.pop(0)\n",
    "\n",
    "    if not node.reactions:\n",
    "        node.solution = False\n",
    "\n",
    "    \n",
    "\n",
    "    copy.reactions.append(react)\n",
    "    return copy\n",
    "\n",
    "def generate_paths(root: ChemNode):\n",
    "    paths = []\n",
    "    while root.solution:\n",
    "        paths.append(generate_subtrees(root))\n",
    "    return paths"
   ]
  },
  {
   "cell_type": "code",
   "execution_count": 19,
   "metadata": {},
   "outputs": [],
   "source": [
    "paths = generate_paths(root)"
   ]
  },
  {
   "cell_type": "code",
   "execution_count": 20,
   "metadata": {},
   "outputs": [
    {
     "name": "stdout",
     "output_type": "stream",
     "text": [
      "46\n"
     ]
    }
   ],
   "source": [
    "print(len(paths))"
   ]
  },
  {
   "cell_type": "code",
   "execution_count": 11,
   "metadata": {},
   "outputs": [],
   "source": [
    "def path_explorer(root: ChemNode):\n",
    "    \"\"\"\n",
    "    Prints the path given a subtree\n",
    "    \"\"\"\n",
    "\n",
    "    stack = []\n",
    "    stack.append(root)\n",
    "    count = 0\n",
    "    while stack:\n",
    "        print(f\"BRANCH {count}:\\n-----------------\")\n",
    "        count += 1\n",
    "        root = stack.pop()\n",
    "        print(f'Chem: {root.smile}')\n",
    "        while root.reactions:\n",
    "            print(f'Reaction: {root.reactions[0].reaction_name}')\n",
    "            if len(root.reactions[0].reagents) > 1:\n",
    "                print(f\"SPLIT: Chem1: {root.reactions[0].reagents[0].smile}, Chem2: {root.reactions[0].reagents[1].smile}\\n\")\n",
    "                stack.append(root.reactions[0].reagents[1])\n",
    "            else:\n",
    "                print(f'Chem: {root.reactions[0].reagents[0].smile}')\n",
    "            root = root.reactions[0].reagents[0]\n",
    "        print(\"BUYABLE\\n\")\n",
    "        "
   ]
  },
  {
   "cell_type": "code",
   "execution_count": 21,
   "metadata": {},
   "outputs": [
    {
     "name": "stdout",
     "output_type": "stream",
     "text": [
      "BRANCH 0:\n",
      "-----------------\n",
      "Chem: c1ccc(C2CCCCN2)cc1\n",
      "Reaction: Imine reduction\n",
      "Chem: c1ccc(C2=NCCCC2)cc1\n",
      "Reaction: Intramolecular imine formation\n",
      "Chem: NCCCCC(=O)c1ccccc1\n",
      "Reaction: Aldehyde amination\n",
      "Chem: O=CCCCC(=O)c1ccccc1\n",
      "Reaction: Ene reduction\n"
     ]
    },
    {
     "ename": "IndexError",
     "evalue": "list index out of range",
     "output_type": "error",
     "traceback": [
      "\u001b[0;31m---------------------------------------------------------------------------\u001b[0m",
      "\u001b[0;31mIndexError\u001b[0m                                Traceback (most recent call last)",
      "Cell \u001b[0;32mIn[21], line 1\u001b[0m\n\u001b[0;32m----> 1\u001b[0m \u001b[43mpath_explorer\u001b[49m\u001b[43m(\u001b[49m\u001b[43mpaths\u001b[49m\u001b[43m[\u001b[49m\u001b[38;5;241;43m2\u001b[39;49m\u001b[43m]\u001b[49m\u001b[43m)\u001b[49m\n",
      "Cell \u001b[0;32mIn[11], line 20\u001b[0m, in \u001b[0;36mpath_explorer\u001b[0;34m(root)\u001b[0m\n\u001b[1;32m     18\u001b[0m         stack\u001b[38;5;241m.\u001b[39mappend(root\u001b[38;5;241m.\u001b[39mreactions[\u001b[38;5;241m0\u001b[39m]\u001b[38;5;241m.\u001b[39mreagents[\u001b[38;5;241m1\u001b[39m])\n\u001b[1;32m     19\u001b[0m     \u001b[38;5;28;01melse\u001b[39;00m:\n\u001b[0;32m---> 20\u001b[0m         \u001b[38;5;28mprint\u001b[39m(\u001b[38;5;124mf\u001b[39m\u001b[38;5;124m'\u001b[39m\u001b[38;5;124mChem: \u001b[39m\u001b[38;5;132;01m{\u001b[39;00m\u001b[43mroot\u001b[49m\u001b[38;5;241;43m.\u001b[39;49m\u001b[43mreactions\u001b[49m\u001b[43m[\u001b[49m\u001b[38;5;241;43m0\u001b[39;49m\u001b[43m]\u001b[49m\u001b[38;5;241;43m.\u001b[39;49m\u001b[43mreagents\u001b[49m\u001b[43m[\u001b[49m\u001b[38;5;241;43m0\u001b[39;49m\u001b[43m]\u001b[49m\u001b[38;5;241m.\u001b[39msmile\u001b[38;5;132;01m}\u001b[39;00m\u001b[38;5;124m'\u001b[39m)\n\u001b[1;32m     21\u001b[0m     root \u001b[38;5;241m=\u001b[39m root\u001b[38;5;241m.\u001b[39mreactions[\u001b[38;5;241m0\u001b[39m]\u001b[38;5;241m.\u001b[39mreagents[\u001b[38;5;241m0\u001b[39m]\n\u001b[1;32m     22\u001b[0m \u001b[38;5;28mprint\u001b[39m(\u001b[38;5;124m\"\u001b[39m\u001b[38;5;124mBUYABLE\u001b[39m\u001b[38;5;130;01m\\n\u001b[39;00m\u001b[38;5;124m\"\u001b[39m)\n",
      "\u001b[0;31mIndexError\u001b[0m: list index out of range"
     ]
    }
   ],
   "source": [
    "path_explorer(paths[2])"
   ]
  },
  {
   "cell_type": "code",
   "execution_count": 38,
   "metadata": {},
   "outputs": [
    {
     "data": {
      "image/png": "[encoded data removed]",
      "text/plain": [
       "<Figure size 640x480 with 1 Axes>"
      ]
     },
     "metadata": {},
     "output_type": "display_data"
    }
   ],
   "source": [
    "pnsNum = [1, 4, 11, 28]\n",
    "mctsNum = [1, 4, 10, 24]\n",
    "indices = np.arange(len(pnsNum))\n",
    "\n",
    "width = np.min(np.diff(indices))/3\n",
    "\n",
    "fig = plt.figure()\n",
    "ax = fig.add_subplot(111)\n",
    "# matplotlib 3.0 you have to use align\n",
    "ax.bar(indices-width,pnsNum,width,color='b', label='Brute Force',align='edge')\n",
    "ax.bar(indices,mctsNum,width,color='r', label='MCTS', align='edge')\n",
    "\n",
    "\n",
    "# bar graph the number of pathways at each level no x-axis labels\n",
    "ax.set_xticks(indices)\n",
    "ax.set_xlabel('Depth of search')\n",
    "ax.set_ylabel('Number of pathways')\n",
    "ax.legend()\n",
    "plt.show()\n"
   ]
  }
 ],
 "metadata": {
  "kernelspec": {
   "display_name": "Retro",
   "language": "python",
   "name": "python3"
  },
  "language_info": {
   "codemirror_mode": {
    "name": "ipython",
    "version": 3
   },
   "file_extension": ".py",
   "mimetype": "text/x-python",
   "name": "python",
   "nbconvert_exporter": "python",
   "pygments_lexer": "ipython3",
   "version": "3.13.0"
  }
 },
 "nbformat": 4,
 "nbformat_minor": 2
}
