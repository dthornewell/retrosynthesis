{
 "cells": [
  {
   "cell_type": "code",
   "execution_count": 1,
   "metadata": {},
   "outputs": [],
   "source": [
    "import sqlite3\n",
    "\n",
    "# Function to add a smile to the database\n",
    "def add_smile(smiles:str, db:sqlite3.Cursor, table_name:str):\n",
    "    db.execute(f\"INSERT INTO {table_name} (SMILES) VALUES (?)\", (smiles,))\n",
    "    db.execute(\"COMMIT\")\n",
    "\n",
    "def add_to_custom(smiles:str):\n",
    "    add_smile(smiles, custom, 'buyable')\n",
    "\n",
    "def add_to_excluded(smiles:str):\n",
    "    add_smile(smiles, excluded, 'excluded')\n",
    "\n",
    "custom = sqlite3.connect('data/custom.db').cursor()\n",
    "excluded = sqlite3.connect('data/excluded.db').cursor()"
   ]
  },
  {
   "cell_type": "markdown",
   "metadata": {},
   "source": [
    "**Add SMILES to custom database**"
   ]
  },
  {
   "cell_type": "code",
   "execution_count": 2,
   "metadata": {},
   "outputs": [],
   "source": [
    "add_to_custom(\"O\")"
   ]
  },
  {
   "cell_type": "markdown",
   "metadata": {},
   "source": [
    "**Add SMILES to excuded database**"
   ]
  },
  {
   "cell_type": "code",
   "execution_count": null,
   "metadata": {},
   "outputs": [],
   "source": [
    "add_to_excluded(\"O=C(O)CCO\")"
   ]
  }
 ],
 "metadata": {
  "kernelspec": {
   "display_name": "Retro",
   "language": "python",
   "name": "python3"
  },
  "language_info": {
   "codemirror_mode": {
    "name": "ipython",
    "version": 3
   },
   "file_extension": ".py",
   "mimetype": "text/x-python",
   "name": "python",
   "nbconvert_exporter": "python",
   "pygments_lexer": "ipython3",
   "version": "3.13.0"
  }
 },
 "nbformat": 4,
 "nbformat_minor": 2
}
