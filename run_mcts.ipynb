{
 "cells": [
  {
   "cell_type": "code",
   "execution_count": 1,
   "metadata": {},
   "outputs": [],
   "source": [
    "import pandas as pd\n",
    "import numpy as np\n",
    "from utils import *\n",
    "from ReactNode import ReactNode\n",
    "from ChemNode import ChemNode\n",
    "from MCTS import MCTS\n",
    "from tree_utils import *"
   ]
  },
  {
   "cell_type": "markdown",
   "metadata": {},
   "source": [
    "**Change buyable database here. Full database: data/split.db, Custom database: data/custom.db**"
   ]
  },
  {
   "cell_type": "code",
   "execution_count": 2,
   "metadata": {},
   "outputs": [],
   "source": [
    "conn = sqlite3.connect('data/split.db')\n",
    "buyable = conn.cursor()\n",
    "retrobiocat = pd.read_pickle(\"data/final_test_retrobiocat.pkl\")\n",
    "analyzer = Retrosim('data/RHEA_atom_mapped_timepoint_7_success.pkl', 'data/retrobiocat_database.pkl')"
   ]
  },
  {
   "cell_type": "markdown",
   "metadata": {},
   "source": [
    "**Change Target SMILES Here**"
   ]
  },
  {
   "cell_type": "code",
   "execution_count": null,
   "metadata": {},
   "outputs": [],
   "source": [
    "smile = \"C#C[C@]1(CO)O[C@@H](n2cnc3c(N)nc(F)nc32)C[C@@H]1O\"\n",
    "root = ChemNode(smile, 0, None, buyable, retrobiocat, analyzer, None)\n",
    "mcts = MCTS(root)"
   ]
  },
  {
   "cell_type": "markdown",
   "metadata": {},
   "source": [
    "**Run MCTS for specified number of iterations**"
   ]
  },
  {
   "cell_type": "code",
   "execution_count": null,
   "metadata": {},
   "outputs": [
    {
     "name": "stderr",
     "output_type": "stream",
     "text": [
      "100%|██████████| 5000/5000 [24:01<00:00,  3.47it/s] \n"
     ]
    }
   ],
   "source": [
    "mcts.MCTS(5000)\n",
    "print(f\"Found pathway: {root.solution}\")"
   ]
  },
  {
   "cell_type": "markdown",
   "metadata": {},
   "source": [
    "**Generate and Print Pathways**"
   ]
  },
  {
   "cell_type": "code",
   "execution_count": null,
   "metadata": {},
   "outputs": [
    {
     "name": "stdout",
     "output_type": "stream",
     "text": [
      "5\n"
     ]
    }
   ],
   "source": [
    "paths = generate_paths(root)\n",
    "print(f\"Number of pathways found: {len(paths)}\")\n",
    "for i in range(0, len(paths)):\n",
    "    print(f'Path {i}')\n",
    "    path_explorer(paths[i])\n",
    "    print(\" \")"
   ]
  }
 ],
 "metadata": {
  "kernelspec": {
   "display_name": "Retro",
   "language": "python",
   "name": "python3"
  },
  "language_info": {
   "codemirror_mode": {
    "name": "ipython",
    "version": 3
   },
   "file_extension": ".py",
   "mimetype": "text/x-python",
   "name": "python",
   "nbconvert_exporter": "python",
   "pygments_lexer": "ipython3",
   "version": "3.13.0"
  }
 },
 "nbformat": 4,
 "nbformat_minor": 2
}
